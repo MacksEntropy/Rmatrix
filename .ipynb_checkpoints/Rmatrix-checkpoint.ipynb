{
 "cells": [
  {
   "cell_type": "code",
   "execution_count": 1,
   "id": "828804c4",
   "metadata": {},
   "outputs": [],
   "source": [
    "import numpy as np\n",
    "import random"
   ]
  },
  {
   "cell_type": "code",
   "execution_count": 2,
   "id": "0e25a54b",
   "metadata": {},
   "outputs": [],
   "source": [
    "def calcCombinations():\n",
    "    allConfigs = []\n",
    "    n = 1\n",
    "    while len(allConfigs) < 16:\n",
    "        config = []\n",
    "        for i in range(4):\n",
    "            config.append(random.choice([1,-1]))\n",
    "        if config not in allConfigs:\n",
    "            n += 1\n",
    "            allConfigs.append(config)\n",
    "    print(f\"It took {n} iterations to get all combinations\")\n",
    "    print(allConfigs)\n",
    "    return allConfigs"
   ]
  },
  {
   "cell_type": "code",
   "execution_count": 3,
   "id": "10c4752e",
   "metadata": {},
   "outputs": [
    {
     "name": "stdout",
     "output_type": "stream",
     "text": [
      "It took 17 iterations to get all combinations\n",
      "[[1, 1, -1, 1], [-1, 1, 1, -1], [1, 1, 1, 1], [-1, 1, -1, -1], [-1, -1, 1, 1], [-1, 1, -1, 1], [-1, -1, 1, -1], [1, -1, -1, 1], [-1, -1, -1, -1], [-1, 1, 1, 1], [1, -1, 1, 1], [-1, -1, -1, 1], [1, 1, -1, -1], [1, -1, 1, -1], [1, -1, -1, -1], [1, 1, 1, -1]]\n"
     ]
    }
   ],
   "source": [
    "combConfigs = calcCombinations()"
   ]
  },
  {
   "cell_type": "code",
   "execution_count": 7,
   "id": "6db74ec3",
   "metadata": {},
   "outputs": [],
   "source": [
    "Rmatrix_empty = [[0 for x in range(16)] for y in range(16)]"
   ]
  },
  {
   "cell_type": "code",
   "execution_count": 6,
   "id": "e4dab39f",
   "metadata": {},
   "outputs": [],
   "source": [
    "def check_R_condition(vec1, vec2):\n",
    "    return (vec1[0] != vec2[0]) and (vec1[1] != vec2[1]) and (vec1[2] != vec2[2]) and vec1[3] != vec2[3]"
   ]
  },
  {
   "cell_type": "code",
   "execution_count": 9,
   "id": "07d195c3",
   "metadata": {},
   "outputs": [],
   "source": [
    "def construct_R(matrix):\n",
    "    for i, row in enumerate(combConfigs):\n",
    "        for j, col in enumerate(combConfigs):\n",
    "            if check_R_condition(row, col):\n",
    "                matrix[i][j] = 1\n",
    "    return matrix"
   ]
  },
  {
   "cell_type": "code",
   "execution_count": 12,
   "id": "3015e2a7",
   "metadata": {},
   "outputs": [
    {
     "name": "stdout",
     "output_type": "stream",
     "text": [
      "[[0, 0, 0, 0, 0, 0, 1, 0, 0, 0, 0, 0, 0, 0, 0, 0], [0, 0, 0, 0, 0, 0, 0, 1, 0, 0, 0, 0, 0, 0, 0, 0], [0, 0, 0, 0, 0, 0, 0, 0, 1, 0, 0, 0, 0, 0, 0, 0], [0, 0, 0, 0, 0, 0, 0, 0, 0, 0, 1, 0, 0, 0, 0, 0], [0, 0, 0, 0, 0, 0, 0, 0, 0, 0, 0, 0, 1, 0, 0, 0], [0, 0, 0, 0, 0, 0, 0, 0, 0, 0, 0, 0, 0, 1, 0, 0], [1, 0, 0, 0, 0, 0, 0, 0, 0, 0, 0, 0, 0, 0, 0, 0], [0, 1, 0, 0, 0, 0, 0, 0, 0, 0, 0, 0, 0, 0, 0, 0], [0, 0, 1, 0, 0, 0, 0, 0, 0, 0, 0, 0, 0, 0, 0, 0], [0, 0, 0, 0, 0, 0, 0, 0, 0, 0, 0, 0, 0, 0, 1, 0], [0, 0, 0, 1, 0, 0, 0, 0, 0, 0, 0, 0, 0, 0, 0, 0], [0, 0, 0, 0, 0, 0, 0, 0, 0, 0, 0, 0, 0, 0, 0, 1], [0, 0, 0, 0, 1, 0, 0, 0, 0, 0, 0, 0, 0, 0, 0, 0], [0, 0, 0, 0, 0, 1, 0, 0, 0, 0, 0, 0, 0, 0, 0, 0], [0, 0, 0, 0, 0, 0, 0, 0, 0, 1, 0, 0, 0, 0, 0, 0], [0, 0, 0, 0, 0, 0, 0, 0, 0, 0, 0, 1, 0, 0, 0, 0]] 16\n"
     ]
    }
   ],
   "source": [
    "Rmatrix = construct_R(Rmatrix_empty)"
   ]
  },
  {
   "cell_type": "code",
   "execution_count": 15,
   "id": "76f86cdc",
   "metadata": {},
   "outputs": [
    {
     "name": "stdout",
     "output_type": "stream",
     "text": [
      "R = \n",
      " [[0 0 0 0 0 0 1 0 0 0 0 0 0 0 0 0]\n",
      " [0 0 0 0 0 0 0 1 0 0 0 0 0 0 0 0]\n",
      " [0 0 0 0 0 0 0 0 1 0 0 0 0 0 0 0]\n",
      " [0 0 0 0 0 0 0 0 0 0 1 0 0 0 0 0]\n",
      " [0 0 0 0 0 0 0 0 0 0 0 0 1 0 0 0]\n",
      " [0 0 0 0 0 0 0 0 0 0 0 0 0 1 0 0]\n",
      " [1 0 0 0 0 0 0 0 0 0 0 0 0 0 0 0]\n",
      " [0 1 0 0 0 0 0 0 0 0 0 0 0 0 0 0]\n",
      " [0 0 1 0 0 0 0 0 0 0 0 0 0 0 0 0]\n",
      " [0 0 0 0 0 0 0 0 0 0 0 0 0 0 1 0]\n",
      " [0 0 0 1 0 0 0 0 0 0 0 0 0 0 0 0]\n",
      " [0 0 0 0 0 0 0 0 0 0 0 0 0 0 0 1]\n",
      " [0 0 0 0 1 0 0 0 0 0 0 0 0 0 0 0]\n",
      " [0 0 0 0 0 1 0 0 0 0 0 0 0 0 0 0]\n",
      " [0 0 0 0 0 0 0 0 0 1 0 0 0 0 0 0]\n",
      " [0 0 0 0 0 0 0 0 0 0 0 1 0 0 0 0]]\n"
     ]
    }
   ],
   "source": [
    "print('R = \\n',np.array(Rmatrix))"
   ]
  },
  {
   "cell_type": "code",
   "execution_count": null,
   "id": "2cc8660e",
   "metadata": {},
   "outputs": [],
   "source": []
  }
 ],
 "metadata": {
  "kernelspec": {
   "display_name": "Python 3 (ipykernel)",
   "language": "python",
   "name": "python3"
  },
  "language_info": {
   "codemirror_mode": {
    "name": "ipython",
    "version": 3
   },
   "file_extension": ".py",
   "mimetype": "text/x-python",
   "name": "python",
   "nbconvert_exporter": "python",
   "pygments_lexer": "ipython3",
   "version": "3.8.18"
  }
 },
 "nbformat": 4,
 "nbformat_minor": 5
}
